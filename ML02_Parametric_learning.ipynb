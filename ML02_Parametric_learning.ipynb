{
  "nbformat": 4,
  "nbformat_minor": 0,
  "metadata": {
    "colab": {
      "provenance": [],
      "authorship_tag": "ABX9TyNXtEbV4AyTSZVGerFFzMhD",
      "include_colab_link": true
    },
    "kernelspec": {
      "name": "python3",
      "display_name": "Python 3"
    },
    "language_info": {
      "name": "python"
    }
  },
  "cells": [
    {
      "cell_type": "markdown",
      "metadata": {
        "id": "view-in-github",
        "colab_type": "text"
      },
      "source": [
        "<a href=\"https://colab.research.google.com/github/gianmarcozironelli/machine_learning/blob/main/ML02_Parametric_learning.ipynb\" target=\"_parent\"><img src=\"https://colab.research.google.com/assets/colab-badge.svg\" alt=\"Open In Colab\"/></a>"
      ]
    },
    {
      "cell_type": "markdown",
      "source": [
        "##Expectation Maximization for Gaussian Mixture Model\n",
        "Building a dataset where points are generated form one of two dimensional Gaussian processes. We will draw 3,000 points from distribution with $μ = 20$ and  $\\sigma$ = 5, amd 7,000 points from a distribution with the same variance and $μ$ = 40."
      ],
      "metadata": {
        "id": "tWuSeqp9ZsGS"
      }
    },
    {
      "cell_type": "code",
      "source": [
        "import numpy as np\n",
        "import matplotlib.pyplot as plt\n",
        "from scipy.stats import norm\n",
        "import math"
      ],
      "metadata": {
        "id": "P-8cGmDOD0u_"
      },
      "execution_count": 16,
      "outputs": []
    },
    {
      "cell_type": "code",
      "execution_count": 17,
      "metadata": {
        "id": "83mtugKLYTQd",
        "colab": {
          "base_uri": "https://localhost:8080/",
          "height": 265
        },
        "outputId": "d0a8d225-894a-4da4-a0ea-7af0955050cf"
      },
      "outputs": [
        {
          "output_type": "display_data",
          "data": {
            "text/plain": [
              "<Figure size 432x288 with 1 Axes>"
            ],
            "image/png": "[encoded data removed]"
          },
          "metadata": {
            "needs_background": "light"
          }
        }
      ],
      "source": [
        "#first distribution\n",
        "X1 = np.random.normal(loc=20, scale=5, size=3000)\n",
        "X2 = np.random.normal(loc=40, scale=5, size=7000)\n",
        "X = np.hstack((X1, X2))\n",
        "\n",
        "plt.hist(X, bins=50)\n",
        "plt.show()"
      ]
    },
    {
      "cell_type": "markdown",
      "source": [
        "We assume we already know it is a bimodal gaussian distirbution with parameters $\\theta = (μ_1, \\sigma_1, μ_2, \\sigma_2)$. We randomly initialize al of them."
      ],
      "metadata": {
        "id": "ZHFmTDSJ4iHD"
      }
    },
    {
      "cell_type": "code",
      "source": [
        "params = {'mu1' : np.random.normal(30,10),\n",
        "          'mu2' : np.random.normal(30,10),\n",
        "          'sigma1' : np.random.uniform(1, 10),\n",
        "          'sigma2' : np.random.uniform(1, 10)}\n",
        "\n",
        "print(params)"
      ],
      "metadata": {
        "colab": {
          "base_uri": "https://localhost:8080/"
        },
        "id": "prDNI1j9E1E9",
        "outputId": "fe66869a-909d-4c03-b7c6-056caae220b0"
      },
      "execution_count": 18,
      "outputs": [
        {
          "output_type": "stream",
          "name": "stdout",
          "text": [
            "{'mu1': 30.996316833710875, 'mu2': 43.1384622439173, 'sigma1': 2.8990558371104838, 'sigma2': 1.3314948523461463}\n"
          ]
        }
      ]
    },
    {
      "cell_type": "markdown",
      "source": [
        "##Expectation (E-step)\n",
        "For each sample point, compute the weight as the probability to belong o the first distribution with respect to the second.\n",
        "How much is the probability of a sample to belong to one class (distribution) instead of another?"
      ],
      "metadata": {
        "id": "pvu0AR6GH_38"
      }
    },
    {
      "cell_type": "code",
      "source": [
        "p1 = norm.pdf(X, params['mu1'], params['sigma1'])\n",
        "p2 = norm.pdf(X, params['mu2'], params['sigma2'])\n",
        "\n",
        "#or p1 = np.log(norm.pdf(X, params['mu1'], params['sigma1']))\n",
        "\n",
        "w = np.divide(p1, p1+p2)"
      ],
      "metadata": {
        "id": "UPQohekpHGXk"
      },
      "execution_count": 19,
      "outputs": []
    },
    {
      "cell_type": "markdown",
      "source": [
        "##Maximization (M-step)\n",
        "Find the maximum likelihood estimate of the weighted log-likelihood function for the two distributions."
      ],
      "metadata": {
        "id": "F8-n2RBPWQik"
      }
    },
    {
      "cell_type": "code",
      "source": [
        "mu1_new = np.sum(w*X) / np.sum(w)\n",
        "mu2_new = np.sum((1-w)*X) / np.sum(1-w)\n",
        "sigma1 = math.sqrt(np.sum(w* np.power(X-params['mu1']*np.ones(len(X)), 2)) / np.sum(w))\n",
        "sigma2 = math.sqrt(np.sum((1-w)* np.power(X-params['mu2']*np.ones(len(X)), 2)) / np.sum(1-w))\n",
        "\n",
        "print(mu1_new, mu2_new, sigma1, sigma2)"
      ],
      "metadata": {
        "colab": {
          "base_uri": "https://localhost:8080/"
        },
        "id": "vJR1jFQYWect",
        "outputId": "17141093-4fa0-4460-e06e-49e761d4b3ce"
      },
      "execution_count": 20,
      "outputs": [
        {
          "output_type": "stream",
          "name": "stdout",
          "text": [
            "27.900636183160408 43.380934785023335 9.35432583745096 3.1371041912233806\n"
          ]
        }
      ]
    },
    {
      "cell_type": "markdown",
      "source": [
        "##Running EM"
      ],
      "metadata": {
        "id": "nYcUuWx5aRlP"
      }
    },
    {
      "cell_type": "code",
      "source": [
        "#Threshold = how much is the minimum increase of the log likelihood\n",
        "#if it increase less then I'll stop\n",
        "th = 0.001\n",
        "counter = 0\n",
        "Lold = -30\n",
        "Lnew = -20\n",
        "\n",
        "while Lnew - Lold > th :\n",
        "  print('Iteration', str(counter), ':')\n",
        "  counter += 1\n",
        "  Lold = Lnew\n",
        "\n",
        "  #E-step:\n",
        "  p1 = norm.pdf(X, params['mu1'], params['sigma1'])\n",
        "  p2 = norm.pdf(X, params['mu2'], params['sigma2'])\n",
        "  w = np.divide(p1, p1+p2)\n",
        "\n",
        "  Lnew = np.sum(np.log(p1+p2)) / len(X)\n",
        "\n",
        "  #M-step:\n",
        "  params['mu1'] = np.sum(w*X) / np.sum(w)\n",
        "  params['mu2'] = np.sum((1-w)*X) / np.sum(1-w)\n",
        "  params['sigma1'] = math.sqrt(np.sum(w* np.power(X-params['mu1']*np.ones(len(X)), 2)) / np.sum(w))\n",
        "  params['sigma2'] = math.sqrt(np.sum((1-w)* np.power(X-params['mu2']*np.ones(len(X)), 2)) / np.sum(1-w))\n",
        "\n",
        "  print(params)\n",
        "  print(Lnew)\n",
        "\n",
        "xs = np.linspace(0, 60, 300)\n",
        "y1 = norm.pdf (xs, params['mu1'], params['sigma1'])\n",
        "y2 = norm.pdf (xs, params['mu2'], params['sigma2'])\n",
        "\n",
        "#plot the histograms\n",
        "plt.hist(X, bins = 50, density=True)\n",
        "plt.plot(xs, y1, 'g')\n",
        "plt.plot(xs, y2, 'r')\n",
        "\n",
        "plt.show()"
      ],
      "metadata": {
        "colab": {
          "base_uri": "https://localhost:8080/",
          "height": 372
        },
        "id": "4-D8KcbMaTYC",
        "outputId": "6a74d952-f639-48c2-e217-fb296994ea71"
      },
      "execution_count": 23,
      "outputs": [
        {
          "output_type": "stream",
          "name": "stdout",
          "text": [
            "Iteration 0 :\n",
            "{'mu1': 25.919427465940604, 'mu2': 41.22454562986323, 'sigma1': 9.239831922823978, 'sigma2': 4.296229852291771}\n",
            "-2.9342642463378454\n",
            "Iteration 1 :\n",
            "{'mu1': 25.882238814420173, 'mu2': 41.22534067172759, 'sigma1': 9.214400461049781, 'sigma2': 4.3007090382539}\n",
            "-2.9342410890028523\n"
          ]
        },
        {
          "output_type": "display_data",
          "data": {
            "text/plain": [
              "<Figure size 432x288 with 1 Axes>"
            ],
            "image/png": "[encoded data removed]"
          },
          "metadata": {
            "needs_background": "light"
          }
        }
      ]
    },
    {
      "cell_type": "code",
      "source": [],
      "metadata": {
        "id": "RCl7djgmg6Ms"
      },
      "execution_count": null,
      "outputs": []
    }
  ]
}